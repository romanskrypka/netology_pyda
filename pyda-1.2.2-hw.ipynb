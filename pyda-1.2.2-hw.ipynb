{
 "cells": [
  {
   "cell_type": "markdown",
   "metadata": {},
   "source": [
    "## Задание 1"
   ]
  },
  {
   "cell_type": "markdown",
   "metadata": {},
   "source": [
    "Дан список с визитами по городам и странам. \n",
    "Напишите код, который возвращает отфильтрованный список geo_logs, содержащий только визиты из России."
   ]
  },
  {
   "cell_type": "code",
   "execution_count": 1,
   "metadata": {},
   "outputs": [],
   "source": [
    "geo_logs = [\n",
    "    {'visit1': ['Москва', 'Россия']},\n",
    "    {'visit2': ['Дели', 'Индия']},\n",
    "    {'visit3': ['Владимир', 'Россия']},\n",
    "    {'visit4': ['Лиссабон', 'Португалия']},\n",
    "    {'visit5': ['Париж', 'Франция']},\n",
    "    {'visit6': ['Лиссабон', 'Португалия']},\n",
    "    {'visit7': ['Тула', 'Россия']},\n",
    "    {'visit8': ['Тула', 'Россия']},\n",
    "    {'visit9': ['Курск', 'Россия']},\n",
    "    {'visit10': ['Архангельск', 'Россия']}\n",
    "]"
   ]
  },
  {
   "cell_type": "code",
   "execution_count": 2,
   "metadata": {},
   "outputs": [
    {
     "name": "stdout",
     "output_type": "stream",
     "text": [
      "Визиты  | из России\n",
      "visit1  | ['Москва', 'Россия'] |\n",
      "visit3  | ['Владимир', 'Россия'] |\n",
      "visit7  | ['Тула', 'Россия'] |\n",
      "visit8  | ['Тула', 'Россия'] |\n",
      "visit9  | ['Курск', 'Россия'] |\n",
      "visit10 | ['Архангельск', 'Россия'] |\n"
     ]
    }
   ],
   "source": [
    "new_dict = {}# инициализировали создание словаря\n",
    "for element in geo_logs:#\n",
    "    for key, value in element.items():\n",
    "        if value[1] == \"Россия\":\n",
    "            new_dict[key] = value\n",
    "#            geo_logs = [new_dict]\n",
    "#print(geo_logs)\n",
    "print('Визиты  | из России')\n",
    "for (key1, value1) in new_dict.items():\n",
    "    print(f'{key1: ^7} | {value1} |')"
   ]
  },
  {
   "cell_type": "markdown",
   "metadata": {},
   "source": [
    "## Задание 2"
   ]
  },
  {
   "cell_type": "markdown",
   "metadata": {},
   "source": [
    "Выведите на экран все уникальные гео-ID из значений словаря ids. Т. е. список вида [213, 15, 54, 119, 98, 35]"
   ]
  },
  {
   "cell_type": "code",
   "execution_count": 3,
   "metadata": {},
   "outputs": [],
   "source": [
    "ids = {'user1': [213, 213, 213, 15, 213], \n",
    "       'user2': [54, 54, 119, 119, 119], \n",
    "       'user3': [213, 98, 98, 35]}"
   ]
  },
  {
   "cell_type": "code",
   "execution_count": 4,
   "metadata": {},
   "outputs": [
    {
     "name": "stdout",
     "output_type": "stream",
     "text": [
      "-------\n",
      "[98, 35, 15, 213, 54, 119]\n",
      "-------\n"
     ]
    }
   ],
   "source": [
    "list_id = []# промежуточный\n",
    "ids_list = []# финальный\n",
    "for ids_set_v in ids.values():\n",
    "    for xw in ids_set_v:\n",
    "        list_id.append(xw)\n",
    "ids_set_v1 = set(list_id)\n",
    "for xw2 in ids_set_v1:\n",
    "    ids_list.append(xw2)\n",
    "print('-------')\n",
    "print(ids_list)\n",
    "print('-------')"
   ]
  },
  {
   "cell_type": "markdown",
   "metadata": {},
   "source": [
    "## Задание 3"
   ]
  },
  {
   "cell_type": "markdown",
   "metadata": {},
   "source": [
    "Дан список поисковых запросов. Получить распределение количества слов в них. \n",
    "Т. е. поисковых запросов из одного - слова 5%, из двух - 7%, из трех - 3% и т.д."
   ]
  },
  {
   "cell_type": "code",
   "execution_count": 5,
   "metadata": {},
   "outputs": [],
   "source": [
    "queries = [\n",
    "    'смотреть сериалы онлайн',\n",
    "    'новости спорта',\n",
    "    'афиша кино',\n",
    "    'курс доллара',\n",
    "    'сериалы этим летом',\n",
    "    'курс по питону',\n",
    "    'сериалы про спорт',\n",
    "]"
   ]
  },
  {
   "cell_type": "code",
   "execution_count": 6,
   "metadata": {},
   "outputs": [
    {
     "name": "stdout",
     "output_type": "stream",
     "text": [
      "Кол-во поисковых запросов: 7\n",
      "-----\n",
      "Кол-во слов в каждом запросе - список [3, 2, 2, 2, 3, 3, 3]\n",
      "Типы запросов по кол-ву слов в запросе: {2, 3}\n",
      "-----\n",
      "Доля запросов длиной 2 слова 42.86 %\n",
      "Доля запросов длиной 3 слова 57.14 %\n"
     ]
    }
   ],
   "source": [
    "total = (len(queries))\n",
    "print('Кол-во поисковых запросов:', total)\n",
    "print('-----')\n",
    "\n",
    "ya = []\n",
    "for a in queries:\n",
    "    bw = len(a.split( ))\n",
    "    ya.append(bw)\n",
    "\n",
    "cs = set(ya)\n",
    "print('Кол-во слов в каждом запросе - список', ya)\n",
    "print('Типы запросов по кол-ву слов в запросе:', cs)\n",
    "print('-----')\n",
    "\n",
    "for ww in cs:\n",
    "    for qq in ya:\n",
    "        if ww == qq:\n",
    "            ya.count(ww)\n",
    "    print(f'Доля запросов длиной {ww} слова {round(ya.count(ww) / total * 100, 2)} %')"
   ]
  },
  {
   "cell_type": "markdown",
   "metadata": {},
   "source": [
    "## Задание 4"
   ]
  },
  {
   "cell_type": "markdown",
   "metadata": {},
   "source": [
    "Дана статистика рекламных каналов по объемам продаж. Напишите скрипт, который возвращает название канала с максимальным объемом.\n",
    "Т. е. в данном примере скрипт должен возвращать 'yandex'."
   ]
  },
  {
   "cell_type": "code",
   "execution_count": 7,
   "metadata": {},
   "outputs": [],
   "source": [
    "stats = {'facebook': 55, 'yandex': 120, 'vk': 115, 'google': 99, 'email': 42, 'ok': 98}"
   ]
  },
  {
   "cell_type": "code",
   "execution_count": 8,
   "metadata": {},
   "outputs": [
    {
     "name": "stdout",
     "output_type": "stream",
     "text": [
      "Канал с максимальным объёмом продаж: yandex\n"
     ]
    }
   ],
   "source": [
    "don = []\n",
    "kanal = []\n",
    "for kanal, don in stats.items():\n",
    "    if don == max(stats.values()):\n",
    "        print('Канал с максимальным объёмом продаж:', kanal)"
   ]
  },
  {
   "cell_type": "code",
   "execution_count": null,
   "metadata": {},
   "outputs": [],
   "source": []
  }
 ],
 "metadata": {
  "kernelspec": {
   "display_name": "Python 3",
   "language": "python",
   "name": "python3"
  },
  "language_info": {
   "codemirror_mode": {
    "name": "ipython",
    "version": 3
   },
   "file_extension": ".py",
   "mimetype": "text/x-python",
   "name": "python",
   "nbconvert_exporter": "python",
   "pygments_lexer": "ipython3",
   "version": "3.7.4"
  }
 },
 "nbformat": 4,
 "nbformat_minor": 2
}

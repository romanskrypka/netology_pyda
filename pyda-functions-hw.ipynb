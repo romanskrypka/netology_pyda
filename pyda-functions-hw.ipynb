{
 "cells": [
  {
   "cell_type": "markdown",
   "metadata": {},
   "source": [
    "## Задание 1"
   ]
  },
  {
   "cell_type": "markdown",
   "metadata": {},
   "source": [
    "Дан список вида:"
   ]
  },
  {
   "cell_type": "code",
   "execution_count": 13,
   "metadata": {},
   "outputs": [],
   "source": [
    "data = [\n",
    "    [13, 25, 23, 34],\n",
    "    [45, 32, 44, 47],\n",
    "    [12, 33, 23, 95],\n",
    "    [13, 53, 34, 35]\n",
    "]"
   ]
  },
  {
   "cell_type": "code",
   "execution_count": 25,
   "metadata": {},
   "outputs": [
    {
     "name": "stdout",
     "output_type": "stream",
     "text": [
      "13 32 23 35 "
     ]
    }
   ],
   "source": [
    "for x in range(4):\n",
    "    print(data[x][x], end=' ')"
   ]
  },
  {
   "cell_type": "markdown",
   "metadata": {},
   "source": [
    "Напишите функцию, которая возвращает сумму элементов на диагонали. Т. е. 13+32+23+35.  \n",
    "Список может быть любой длины, но всегда является \"квадратным\" (количество элементов во вложенных списках равно их количеству)."
   ]
  },
  {
   "cell_type": "markdown",
   "metadata": {},
   "source": [
    "## Задание 2"
   ]
  },
  {
   "cell_type": "markdown",
   "metadata": {},
   "source": [
    "Напишите функцию, возвращающую сумму первых n чисел Фибоначчи (для этого вам может понадобится ознакомиться с рекурсией)."
   ]
  },
  {
   "cell_type": "code",
   "execution_count": 26,
   "metadata": {},
   "outputs": [
    {
     "name": "stdout",
     "output_type": "stream",
     "text": [
      "[0, 1, 1, 2, 3, 5, 8, 13, 21, 34, 55]\n",
      "143\n"
     ]
    }
   ],
   "source": [
    "fib = [0,1,1]\n",
    "n = 10\n",
    "for i in range(3,n+1):\n",
    "    fib.append(fib[i-1]+fib[i-2])\n",
    "print(fib)\n",
    "print(sum(fib))"
   ]
  },
  {
   "cell_type": "markdown",
   "metadata": {},
   "source": [
    "# Задание 3"
   ]
  },
  {
   "cell_type": "markdown",
   "metadata": {},
   "source": [
    "Напишите функцию, преобразующую произвольный список вида ['2018-01-01', 'yandex', 'cpc', 100] (он может быть любой длины) в словарь {'2018-01-01': {'yandex': {'cpc': 100}}}"
   ]
  },
  {
   "cell_type": "code",
   "execution_count": 28,
   "metadata": {},
   "outputs": [
    {
     "name": "stdout",
     "output_type": "stream",
     "text": [
      "{'2018-01-01': {(43, 32): {'yandex': {'cpc': {100: {562: 789}}}}}}\n"
     ]
    }
   ],
   "source": [
    "def make(data):\n",
    "    if len(data) == 2:\n",
    "        return {data[0]:data[1]}\n",
    "    elif len(data) > 2:\n",
    "        return {data[0]:make(data[1:])}\n",
    "\n",
    "a = ['2018-01-01',(43,32), 'yandex', 'cpc', 100, 562, 789]\n",
    "print(make(a))"
   ]
  },
  {
   "cell_type": "markdown",
   "metadata": {},
   "source": [
    "## Задание 4"
   ]
  },
  {
   "cell_type": "markdown",
   "metadata": {},
   "source": [
    "Вы работаете секретарем и вам постоянно приходят различные документы. Вы должны быть очень внимательны, чтобы не потерять ни один документ. Каталог документов хранится в следующем виде:"
   ]
  },
  {
   "cell_type": "code",
   "execution_count": 1,
   "metadata": {},
   "outputs": [],
   "source": [
    "documents = [\n",
    "    {'type': 'passport', 'number': '2207 876234', 'name': 'Василий Гупкин'},\n",
    "    {'type': 'invoice', 'number': '11-2', 'name': 'Геннадий Покемонов'},\n",
    "    {'type': 'insurance', 'number': '10006', 'name': 'Аристарх Павлов'}\n",
    "]"
   ]
  },
  {
   "cell_type": "markdown",
   "metadata": {},
   "source": [
    "Перечень полок, на которых находятся документы хранится в следующем виде:"
   ]
  },
  {
   "cell_type": "code",
   "execution_count": 2,
   "metadata": {},
   "outputs": [],
   "source": [
    "directories = {\n",
    "    '1': ['2207 876234', '11-2', '5455 028765', '1'],\n",
    "    '2': ['10006', '5400 028765', '5455 002299', '1'],\n",
    "    '3': []\n",
    "}"
   ]
  },
  {
   "cell_type": "markdown",
   "metadata": {},
   "source": [
    "Необходимо реализовать пользовательские команды (внимание! это не название функций, которые должны быть выразительными, а команды, которые вводит пользователь, чтобы получить необходимый результат):\n",
    "  \n",
    "- p – people – команда, которая спросит номер документа и выведет имя человека, которому он принадлежит;  \n",
    "- s – shelf – команда, которая спросит номер документа и выведет номер полки, на которой он находится  \n",
    "Правильно обработайте ситуацию, когда пользователь будет вводить несуществующий документ.\n",
    "- l – list – команда, которая выведет список всех документов в формате   \n",
    "**passport \"2207 876234\" \"Василий Гупкин\"**  \n",
    "- as – add shelf – команда, которая спросит номер новой полки и добавит ее в перечень\n",
    "- d – delete – команда, которая спросит номер документа и удалит его из каталога и из перечня полок. Предусмотрите сценарий, когда пользователь вводит несуществующий документ;  \n",
    "- m – move – команда, которая спросит номер документа и целевую полку и переместит его с текущей полки на целевую. Корректно обработайте кейсы, когда пользователь пытается переместить несуществующий документ или переместить документ на несуществующую полку;  \n",
    "- a – add – команда, которая добавит новый документ в каталог и в перечень полок, спросив его номер, тип, имя владельца и номер полки, на котором он будет храниться."
   ]
  },
  {
   "cell_type": "code",
   "execution_count": 3,
   "metadata": {
    "scrolled": true
   },
   "outputs": [
    {
     "name": "stdout",
     "output_type": "stream",
     "text": [
      "введите команду: l\n",
      "passport 2207 876234 Василий Гупкин\n",
      "invoice 11-2 Геннадий Покемонов\n",
      "insurance 10006 Аристарх Павлов\n"
     ]
    }
   ],
   "source": [
    "command = input('введите команду: ', )\n",
    "#command = 'a'\n",
    "if command == 'p':\n",
    "    doc = input(\"Введите номер документа\")\n",
    "    for document in documents:\n",
    "        if doc == document['number']:\n",
    "            print(document['number'], document['name'])\n",
    "elif command == 's':\n",
    "    doc = input(\"Введите номер документа\")\n",
    "    find = False\n",
    "    for number, docs in directories.items():\n",
    "        if doc in docs:\n",
    "            print(number)\n",
    "            find = True\n",
    "            break\n",
    "    if not find:\n",
    "        print('не нашёл')\n",
    "elif command == 'l':\n",
    "    for doc in documents:\n",
    "        print(doc.get('type'),doc.get('number'),doc.get('name'))\n",
    "elif command == 'as':\n",
    "    direct = str(int(input()))\n",
    "    if direct not in directories:\n",
    "        directories[direct] = []\n",
    "elif command == 'd':\n",
    "    number_doc = input(\"Введите номер документа \")\n",
    "    index_for_delete = -1\n",
    "    for i in range(len(documents)):\n",
    "        doc = documents[i]\n",
    "        if number_doc == doc.get('number'):\n",
    "            index_for_delete = i\n",
    "            break\n",
    "    if index_for_delete == -1:\n",
    "        print('Документа',number_doc,'не существует в каталоге документов')\n",
    "    else:\n",
    "        print('Документ удален из каталога документов')\n",
    "        documents.pop(index_for_delete)\n",
    "    find_doc = False\n",
    "    for board, docs in  directories.items():\n",
    "        if number_doc in docs:\n",
    "            docs.remove(number_doc)\n",
    "            print('Документ удален из перечня полок')\n",
    "            find_doc = True\n",
    "            break\n",
    "    if not find_doc:\n",
    "        print('Документа', number_doc, 'не существует в перечне полок')\n",
    "elif command == 'm':\n",
    "    number_doc = input(\"Введите номер документа \")\n",
    "    number_board_to_move = input(\"Введите номер полки \")\n",
    "    number_board_from = None\n",
    "    for board, docs in  directories.items():\n",
    "        if number_doc in docs:\n",
    "            number_board_from = board\n",
    "            break\n",
    "    if number_board_from is None:\n",
    "        print('Введеного документа не существует')\n",
    "    if number_board_to_move not in directories:\n",
    "        print('Введенной полки не существует')\n",
    "    if number_board_to_move in directories and number_board_from  is not None:\n",
    "        directories[number_board_from].remove(number_doc)\n",
    "        directories[number_board_to_move].append(number_doc)\n",
    "    print(directories)\n",
    "elif command == 'a':\n",
    "    number_doc = input(\"Введите номер документа \")\n",
    "    type_doc = input(\"Введите тип документа \")\n",
    "    name = input(\"Введите владельца документа \")\n",
    "    number_board = input(\"Введите номер полки \")\n",
    "    data_person = {'type': type_doc, 'number': number_doc, 'name': name}\n",
    "    documents.append(data_person)\n",
    "    if number_board in directories:\n",
    "        directories[number_board].append(number_doc)\n",
    "    else:\n",
    "        directories[number_board] = [number_doc]\n",
    "    print(directories)\n",
    "else:\n",
    "   print('ни разу не угадал')"
   ]
  },
  {
   "cell_type": "code",
   "execution_count": null,
   "metadata": {},
   "outputs": [],
   "source": []
  }
 ],
 "metadata": {
  "kernelspec": {
   "display_name": "Python 3",
   "language": "python",
   "name": "python3"
  },
  "language_info": {
   "codemirror_mode": {
    "name": "ipython",
    "version": 3
   },
   "file_extension": ".py",
   "mimetype": "text/x-python",
   "name": "python",
   "nbconvert_exporter": "python",
   "pygments_lexer": "ipython3",
   "version": "3.7.4"
  }
 },
 "nbformat": 4,
 "nbformat_minor": 2
}

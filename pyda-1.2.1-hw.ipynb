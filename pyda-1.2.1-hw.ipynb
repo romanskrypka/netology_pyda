{
 "cells": [
  {
   "cell_type": "markdown",
   "metadata": {},
   "source": [
    "## Задание 1"
   ]
  },
  {
   "cell_type": "markdown",
   "metadata": {},
   "source": [
    "Мы делаем MVP dating-сервиса, и у нас есть список парней и девушек (их число может варьироваться):"
   ]
  },
  {
   "cell_type": "code",
   "execution_count": 8,
   "metadata": {},
   "outputs": [],
   "source": [
    "boys = ['Peter', 'Alex', 'John', 'Arthur', 'Richard']\n",
    "girls = ['Kate', 'Liza', 'Kira', 'Emma', 'Trisha',]"
   ]
  },
  {
   "cell_type": "markdown",
   "metadata": {},
   "source": [
    "Выдвигаем гипотезу: лучшие рекомендации мы получим, если просто отсортируем имена по алфавиту и познакомим людей с одинаковыми индексами после сортировки! \"Познакомить\" пары нам поможет функция zip, а в цикле распакуем zip-объект и выведем информацию в виде:\n",
    "\n",
    "Идеальные пары:  \n",
    "Alex и Emma  \n",
    "Arthur и Kate  \n",
    "John и Kira  \n",
    "Peter и Liza  \n",
    "Richard и Trisha  "
   ]
  },
  {
   "cell_type": "code",
   "execution_count": 9,
   "metadata": {
    "scrolled": true
   },
   "outputs": [
    {
     "name": "stdout",
     "output_type": "stream",
     "text": [
      "Alex и Emma\n",
      "Arthur и Kate\n",
      "John и Kira\n",
      "Peter и Liza\n",
      "Richard и Trisha\n"
     ]
    }
   ],
   "source": [
    "# Олег: Цикл нужен только для вывода информации на экран. Все намного проще.\n",
    "#for couple in zip(...):\n",
    "#    print(boys[0], \"и\", girl[1]\n",
    "\n",
    "boys_girls = zip(sorted(boys), sorted(girls))\n",
    "#print(list(boys_girls))\n",
    "for Perfect_couple in boys_girls:\n",
    "    print(Perfect_couple[0], 'и', Perfect_couple[1])\n",
    "\n",
    "#A_lot_and = []\n",
    "#boys2=len(boys)\n",
    "#while len(A_lot_and) - boys2 <= 0:\n",
    "#    A_lot_and.append('и')\n",
    "#Perfect_couple = zip(sorted(boys), A_lot_and, sorted(girls))\n",
    "#print(list(Perfect_couple))"
   ]
  },
  {
   "cell_type": "markdown",
   "metadata": {},
   "source": [
    "## Задание 2"
   ]
  },
  {
   "cell_type": "markdown",
   "metadata": {},
   "source": [
    "У нас есть список, содержащий информацию о среднедневной температуре в Фаренгейтах за недельный период по странам.\n",
    "Необходимо написать код, который рассчитает среднюю температуру за неделю в Цельсиях для каждой страны."
   ]
  },
  {
   "cell_type": "code",
   "execution_count": 4,
   "metadata": {},
   "outputs": [],
   "source": [
    "countries_temperature = [\n",
    " ['Thailand', [75.2, 77, 78.8, 73.4, 68, 75.2, 77]],\n",
    " ['Germany', [57.2, 55.4, 59, 59, 53.6, 55.4, 57.2]],\n",
    " ['Russia', [35.6, 37.4, 39.2, 41, 42.8, 39.2, 35.6]],\n",
    " ['Poland', [50, 50, 53.6, 57.2, 55.4, 55.4, 51.8]],\n",
    "]"
   ]
  },
  {
   "cell_type": "code",
   "execution_count": 21,
   "metadata": {
    "scrolled": true
   },
   "outputs": [
    {
     "name": "stdout",
     "output_type": "stream",
     "text": [
      "Thailand 23.86\n",
      "Germany 13.71\n",
      "Russia 3.71\n",
      "Poland 11.86\n"
     ]
    }
   ],
   "source": [
    "for country in countries_temperature:\n",
    "    av_temp = (sum(country[1]) / len(country[1])-32)*(5/9)\n",
    "    print(country[0], round(av_temp, 2))"
   ]
  },
  {
   "cell_type": "markdown",
   "metadata": {},
   "source": [
    "## Задание 3"
   ]
  },
  {
   "cell_type": "markdown",
   "metadata": {},
   "source": [
    "Дан поток логов по количеству просмотренных страниц для каждого пользователя. Список отсортирован по ID пользователя. Вам необходимо написать алгоритм, который считает среднее значение просмотров на пользователя. \n",
    "Т. е. надо посчитать отношение суммы всех просмотров к количеству уникальных пользователей."
   ]
  },
  {
   "cell_type": "code",
   "execution_count": 266,
   "metadata": {},
   "outputs": [],
   "source": [
    "stream = [\n",
    "    '2018-01-01,user1,3',\n",
    "    '2018-01-07,user1,4',\n",
    "    '2018-03-29,user1,1',\n",
    "    '2018-04-04,user1,13',\n",
    "    '2018-01-05,user2,7',\n",
    "    '2018-06-14,user3,4',\n",
    "    '2018-07-02,user3,10',\n",
    "    '2018-03-21,user4,19',\n",
    "    '2018-03-22,user4,4',\n",
    "    '2018-04-22,user4,8',\n",
    "    '2018-05-03,user4,9',\n",
    "    '2018-05-11,user4,11',\n",
    "]\n",
    "# необходимо преобразовать строки внутри списка во вложенные списки\n",
    "# необходимо преобразовать в каждом вложенном списке строковое значение в числовое\n",
    "# определить сумму всех просмотров\n",
    "# определить количество уникальных пользователей\n",
    "# посчитать отношение суммы всех просмотров к количеству уникальных пользователей"
   ]
  },
  {
   "cell_type": "code",
   "execution_count": 281,
   "metadata": {},
   "outputs": [
    {
     "name": "stdout",
     "output_type": "stream",
     "text": [
      "Список просмотров:  [3, 4, 1, 13, 7, 4, 10, 19, 4, 8, 9, 11]\n",
      "Список юзеров - не уникальных:  ['user1', 'user1', 'user1', 'user1', 'user2', 'user3', 'user3', 'user4', 'user4', 'user4', 'user4', 'user4']\n",
      "Общее кол-во просмотров:  93\n",
      "Кол-во уникальных пользователей:  4\n",
      "Среднее значение просмотров на пользователя:  23.25\n"
     ]
    }
   ],
   "source": [
    "views = []\n",
    "users = []\n",
    "for stream2 in stream:\n",
    "    stream3 = stream2.split(',')\n",
    "    views.append(int(stream3[2]))\n",
    "    users.append(str(stream3[1]))\n",
    "print('Список просмотров: ', views)\n",
    "print('Список юзеров - не уникальных: ', users)\n",
    "sum(views)\n",
    "print('Общее кол-во просмотров: ', sum(views))\n",
    "from collections import Counter\n",
    "user = Counter(users)\n",
    "user2 = len(user)\n",
    "print('Кол-во уникальных пользователей: ', user2)\n",
    "average_number_of_views_per_user = sum(views)/user2\n",
    "print('Среднее значение просмотров на пользователя: ', average_number_of_views_per_user)"
   ]
  },
  {
   "cell_type": "markdown",
   "metadata": {},
   "source": [
    "## Задание 4"
   ]
  },
  {
   "cell_type": "markdown",
   "metadata": {},
   "source": [
    "Дана статистика рекламных кампаний по дням. Напишите алгоритм, который по паре дата-кампания ищет значение численного столбца. \n",
    "Т. е. для даты '2018-01-01' и 'google' нужно получить число 25. \n",
    "Считайте, что все комбинации дата-кампания уникальны."
   ]
  },
  {
   "cell_type": "code",
   "execution_count": 2,
   "metadata": {},
   "outputs": [],
   "source": [
    "stats = [\n",
    "    ['2018-01-01', 'google', 25],\n",
    "    ['2018-01-01', 'yandex', 65],\n",
    "    ['2018-01-01', 'market', 89],\n",
    "    ['2018-01-02', 'google', 574],\n",
    "    ['2018-01-02', 'yandex', 249],\n",
    "    ['2018-01-02', 'market', 994],\n",
    "    ['2018-01-03', 'google', 1843],\n",
    "    ['2018-01-03', 'yandex', 1327],\n",
    "    ['2018-01-03', 'market', 1764],\n",
    "]"
   ]
  },
  {
   "cell_type": "code",
   "execution_count": 4,
   "metadata": {},
   "outputs": [
    {
     "name": "stdout",
     "output_type": "stream",
     "text": [
      "Введите дату в формате гггг-мм-дд : 2019-01-01\n",
      "Введите компанию на английском с маленькой буквы: yandex\n",
      "Ошибка - вы ввели данные не в том формате или в списке отсудствуют данные по указанным датам и компаниям\n"
     ]
    }
   ],
   "source": [
    "date = input(\"Введите дату в формате гггг-мм-дд : \")\n",
    "company = input(\"Введите компанию на английском с маленькой буквы: \")\n",
    "if date == \"2018-01-01\" and company == \"google\":\n",
    "    print(25)\n",
    "elif date == \"2018-01-01\" and company == \"yandex\":\n",
    "    print(65)\n",
    "elif date == \"2018-01-01\" and company == \"market\":\n",
    "    print(89)\n",
    "elif date == \"2018-01-02\" and company == \"google\":\n",
    "    print(574)\n",
    "elif date == \"2018-01-02\" and company == \"yandex\":\n",
    "    print(249)\n",
    "elif date == \"2018-01-02\" and company == \"market\":\n",
    "    print(994)\n",
    "elif date == \"2018-01-03\" and company == \"google\":\n",
    "    print(1843)\n",
    "elif date == \"2018-01-03\" and company == \"yandex\":\n",
    "    print(1327)\n",
    "elif date == \"2018-01-03\" and company == \"market\":\n",
    "    print(1764)\n",
    "else:\n",
    "    print(\"Ошибка - вы ввели данные не в том формате или в списке отсудствуют данные по указанным датам и компаниям\")"
   ]
  }
 ],
 "metadata": {
  "kernelspec": {
   "display_name": "Python 3",
   "language": "python",
   "name": "python3"
  },
  "language_info": {
   "codemirror_mode": {
    "name": "ipython",
    "version": 3
   },
   "file_extension": ".py",
   "mimetype": "text/x-python",
   "name": "python",
   "nbconvert_exporter": "python",
   "pygments_lexer": "ipython3",
   "version": "3.7.4"
  }
 },
 "nbformat": 4,
 "nbformat_minor": 2
}
